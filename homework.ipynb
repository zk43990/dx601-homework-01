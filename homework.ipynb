{
  "cells": [
    {
      "cell_type": "markdown",
      "metadata": {
        "id": "xpHvjaPrN7K8"
      },
      "source": [
        "# DX 601 Week 1 Homework"
      ]
    },
    {
      "cell_type": "markdown",
      "metadata": {
        "id": "B6SbbD7eVG9D"
      },
      "source": [
        "## Introduction\n",
        "\n",
        "The purpose of this homework assignment is to give you exposure to basic Python to support your practice with the mathematical concepts of this course.\n",
        "If you are not taking module 2 consecutively with this module, you may find it helpful to look at the following Jupyter notebook.\n",
        "\n",
        "* [Python as a Calculator](https://github.com/bu-cds-omds/dx602-examples/blob/main/week01/video_python_as_a_calculator.ipynb). This notebook from module 2 has several examples using Python to calculate simple math expressions."
      ]
    },
    {
      "cell_type": "markdown",
      "metadata": {
        "id": "kAEnWophUWgo"
      },
      "source": [
        "## Instructions\n",
        "\n",
        "You should replace every instance of \"...\" below.\n",
        "These are where you are expected to write code to answer each problem.\n",
        "\n",
        "Be sure to run each code block after you edit it to make sure it runs as expected.\n",
        "When you are done, we strongly recommend you run all the code from scratch (Runtime menu -> Restart and Run all) to make sure your current code works for all problems.\n",
        "\n",
        "If your code raises an exception when run from scratch, it will  interfere with the auto-grader process causing you to lose some or all points for this homework.\n",
        "Please ask for help in YellowDig or schedule an appointment with a learning facilitator if you get stuck.\n"
      ]
    },
    {
      "cell_type": "markdown",
      "metadata": {
        "id": "QQvABRYaUgLD"
      },
      "source": [
        "### Submission\n",
        "\n",
        "To submit your homework, take the following steps.\n",
        "\n",
        "1. Save and commit this notebook.\n",
        "2. Push your changes to GitHub.\n",
        "3. Confirm that your changes are visible in GitHub.\n",
        "4. Delete the codespace to avoid wasting your free quota.\n",
        "\n",
        "The auto-grading process usually completes within a few minutes of pushing to GitHub, but occasionally can take several minutes to an hour.\n",
        "If you submit your homework early enough, you may review the auto-grading results and fix any mistakes before the deadline.\n"
      ]
    },
    {
      "cell_type": "markdown",
      "metadata": {
        "id": "LuKsG1UXUoa-"
      },
      "source": [
        "## Problems"
      ]
    },
    {
      "cell_type": "markdown",
      "metadata": {
        "id": "gJsTIi6XUVxb"
      },
      "source": [
        "### Problem 1\n",
        "\n",
        "In Python, you can save the result of any expression or computation in a variable with an assignment statement.\n",
        "The following code assigns one to a new variable called `q1`."
      ]
    },
    {
      "cell_type": "code",
      "execution_count": 2,
      "metadata": {
        "id": "N7WutS70UX-z"
      },
      "outputs": [],
      "source": [
        "q1 = 1"
      ]
    },
    {
      "cell_type": "code",
      "execution_count": 3,
      "metadata": {
        "id": "dNzAtnglWSLJ"
      },
      "outputs": [
        {
          "data": {
            "text/plain": [
              "1"
            ]
          },
          "execution_count": 3,
          "metadata": {},
          "output_type": "execute_result"
        }
      ],
      "source": [
        "q1"
      ]
    },
    {
      "cell_type": "markdown",
      "metadata": {
        "id": "DpHjrtwkUuIz"
      },
      "source": [
        "Set the variable `p1` to the value 3.1."
      ]
    },
    {
      "cell_type": "code",
      "execution_count": 4,
      "metadata": {
        "id": "0NvDwzZGUZHu"
      },
      "outputs": [],
      "source": [
        "p1 = 3.1"
      ]
    },
    {
      "cell_type": "code",
      "execution_count": 5,
      "metadata": {
        "id": "4lOMgf2nWUNG"
      },
      "outputs": [
        {
          "data": {
            "text/plain": [
              "3.1"
            ]
          },
          "execution_count": 5,
          "metadata": {},
          "output_type": "execute_result"
        }
      ],
      "source": [
        "p1"
      ]
    },
    {
      "cell_type": "markdown",
      "metadata": {
        "id": "GhjI3xcGQRc9"
      },
      "source": [
        "### Problem 2\n",
        "\n",
        "Simple mathematical expressions can be computed easily in Python.\n",
        "Here are examples of addition and subtraction."
      ]
    },
    {
      "cell_type": "code",
      "execution_count": 6,
      "metadata": {
        "id": "6m8qRC-1VJuJ"
      },
      "outputs": [
        {
          "data": {
            "text/plain": [
              "4"
            ]
          },
          "execution_count": 6,
          "metadata": {},
          "output_type": "execute_result"
        }
      ],
      "source": [
        "1 + 3"
      ]
    },
    {
      "cell_type": "code",
      "execution_count": 7,
      "metadata": {
        "id": "o5fwWQwUVLEV"
      },
      "outputs": [
        {
          "data": {
            "text/plain": [
              "3"
            ]
          },
          "execution_count": 7,
          "metadata": {},
          "output_type": "execute_result"
        }
      ],
      "source": [
        "5 - 2"
      ]
    },
    {
      "cell_type": "markdown",
      "metadata": {
        "id": "z88ZyfmxVS0L"
      },
      "source": [
        "Multiplication and division operations are represented with the symbols `*` and `/` respectively."
      ]
    },
    {
      "cell_type": "code",
      "execution_count": 8,
      "metadata": {
        "id": "quyzSYb6VRNl"
      },
      "outputs": [
        {
          "data": {
            "text/plain": [
              "12"
            ]
          },
          "execution_count": 8,
          "metadata": {},
          "output_type": "execute_result"
        }
      ],
      "source": [
        "3 * 4"
      ]
    },
    {
      "cell_type": "code",
      "execution_count": 9,
      "metadata": {
        "id": "qArshkUjVaIb"
      },
      "outputs": [
        {
          "data": {
            "text/plain": [
              "2.6666666666666665"
            ]
          },
          "execution_count": 9,
          "metadata": {},
          "output_type": "execute_result"
        }
      ],
      "source": [
        "8 / 3"
      ]
    },
    {
      "cell_type": "markdown",
      "metadata": {
        "id": "VCPf2dFzVc00"
      },
      "source": [
        "The result of any of these expressions can be assigned to a variable."
      ]
    },
    {
      "cell_type": "code",
      "execution_count": 10,
      "metadata": {
        "id": "w5AmygTyVj_L"
      },
      "outputs": [],
      "source": [
        "q2 = 5 * 7"
      ]
    },
    {
      "cell_type": "code",
      "execution_count": 11,
      "metadata": {
        "id": "JcKcR7XIWTCV"
      },
      "outputs": [
        {
          "data": {
            "text/plain": [
              "35"
            ]
          },
          "execution_count": 11,
          "metadata": {},
          "output_type": "execute_result"
        }
      ],
      "source": [
        "q2"
      ]
    },
    {
      "cell_type": "markdown",
      "metadata": {
        "id": "PjpoSQSFVmeA"
      },
      "source": [
        "Set `p2` to the result of 9 divided by 6."
      ]
    },
    {
      "cell_type": "code",
      "execution_count": 12,
      "metadata": {
        "id": "kx7jBsYPVwTL"
      },
      "outputs": [],
      "source": [
        "p2 = 9/6"
      ]
    },
    {
      "cell_type": "code",
      "execution_count": 13,
      "metadata": {
        "id": "cFZFq4kBWU7d"
      },
      "outputs": [
        {
          "data": {
            "text/plain": [
              "1.5"
            ]
          },
          "execution_count": 13,
          "metadata": {},
          "output_type": "execute_result"
        }
      ],
      "source": [
        "p2"
      ]
    },
    {
      "cell_type": "markdown",
      "metadata": {
        "id": "F196E7CsUwou"
      },
      "source": [
        "### Problem 3\n",
        "\n",
        "Parenthesis in Python have two uses.\n",
        "Parenthesis can group operations in a Python expression to show that they should be executed first, and they can be used to call functions.\n",
        "Here is an example of the first usage."
      ]
    },
    {
      "cell_type": "code",
      "execution_count": 14,
      "metadata": {
        "id": "guTh8jqGWWW3"
      },
      "outputs": [],
      "source": [
        "q3 = (2 + 8) * 3"
      ]
    },
    {
      "cell_type": "code",
      "execution_count": 15,
      "metadata": {
        "id": "7Y_rrRj-WbHA"
      },
      "outputs": [
        {
          "data": {
            "text/plain": [
              "30"
            ]
          },
          "execution_count": 15,
          "metadata": {},
          "output_type": "execute_result"
        }
      ],
      "source": [
        "q3"
      ]
    },
    {
      "cell_type": "markdown",
      "metadata": {
        "id": "ZnNAyjbAWeQH"
      },
      "source": [
        "Set `p3` to the result of the mathematical expression $\\frac{2 + 5}{3}$."
      ]
    },
    {
      "cell_type": "code",
      "execution_count": 16,
      "metadata": {
        "id": "XA7DgtLYWq9G"
      },
      "outputs": [],
      "source": [
        "p3 = (2+5)/3"
      ]
    },
    {
      "cell_type": "code",
      "execution_count": 17,
      "metadata": {
        "id": "fSUwmDj3WzNu"
      },
      "outputs": [
        {
          "data": {
            "text/plain": [
              "2.3333333333333335"
            ]
          },
          "execution_count": 17,
          "metadata": {},
          "output_type": "execute_result"
        }
      ],
      "source": [
        "p3"
      ]
    },
    {
      "cell_type": "markdown",
      "metadata": {
        "id": "zEeKT39KUxdC"
      },
      "source": [
        "### Problem 4\n",
        "\n",
        "Exponentiation is a repeated multiplication operator.\n",
        "Exponentiation is expressed with the mathematical syntax $x^y$ which is read as $x$ to the $y\\mathrm{th}$ power.\n",
        "If $y$ is a whole number, this is the same as $y$ copies of $x$ multiplied together.\n",
        "For example, $3^5 = 3 * 3 * 3 * 3 * 3$.\n",
        "\n",
        "Python uses `**` for exponentiation, so the mathematical expression $x^y$ is `x ** y` in Python."
      ]
    },
    {
      "cell_type": "code",
      "execution_count": 18,
      "metadata": {
        "id": "B5S0BK3ZduGt"
      },
      "outputs": [
        {
          "data": {
            "text/plain": [
              "243"
            ]
          },
          "execution_count": 18,
          "metadata": {},
          "output_type": "execute_result"
        }
      ],
      "source": [
        "3 ** 5"
      ]
    },
    {
      "cell_type": "markdown",
      "metadata": {
        "id": "W6AOkPD_dwA1"
      },
      "source": [
        "Set `p4` to $2^8$."
      ]
    },
    {
      "cell_type": "code",
      "execution_count": 19,
      "metadata": {
        "id": "az0GF915d9bO"
      },
      "outputs": [],
      "source": [
        "p4 = 2**8"
      ]
    },
    {
      "cell_type": "markdown",
      "metadata": {
        "id": "Toz6EK2LUx_7"
      },
      "source": [
        "### Problem 5\n",
        "\n",
        "Set `p5` to the value $\\pi^2$.\n",
        "The variable `q5` has the value of $\\pi$ for your convenience."
      ]
    },
    {
      "cell_type": "code",
      "execution_count": 20,
      "metadata": {
        "id": "VCMvfjnTeBRC"
      },
      "outputs": [],
      "source": [
        "import math"
      ]
    },
    {
      "cell_type": "code",
      "execution_count": 21,
      "metadata": {
        "id": "qcuDO6iGeCOe"
      },
      "outputs": [],
      "source": [
        "q5 = math.pi"
      ]
    },
    {
      "cell_type": "code",
      "execution_count": 22,
      "metadata": {
        "id": "yRLD-PqYeDrM"
      },
      "outputs": [
        {
          "data": {
            "text/plain": [
              "3.141592653589793"
            ]
          },
          "execution_count": 22,
          "metadata": {},
          "output_type": "execute_result"
        }
      ],
      "source": [
        "q5"
      ]
    },
    {
      "cell_type": "code",
      "execution_count": 23,
      "metadata": {
        "id": "sVlxEtwpeFCv"
      },
      "outputs": [],
      "source": [
        "p5 = q5**2"
      ]
    },
    {
      "cell_type": "code",
      "execution_count": 24,
      "metadata": {
        "id": "5PfxkngQeGRI"
      },
      "outputs": [
        {
          "data": {
            "text/plain": [
              "9.869604401089358"
            ]
          },
          "execution_count": 24,
          "metadata": {},
          "output_type": "execute_result"
        }
      ],
      "source": [
        "p5"
      ]
    },
    {
      "cell_type": "markdown",
      "metadata": {
        "id": "EaoT1RMVeYnB"
      },
      "source": [
        "### Problem 6\n",
        "\n",
        "Python uses brackets like `[` and `]` to create lists.\n",
        "Many examples of statistics next week will use lists for example data.\n",
        "\n",
        "The following example creates a list `q6` containing values 1, 4 and 6."
      ]
    },
    {
      "cell_type": "code",
      "execution_count": 25,
      "metadata": {
        "id": "_7uc314Hel3N"
      },
      "outputs": [],
      "source": [
        "q6 = [1, 4, 6]"
      ]
    },
    {
      "cell_type": "code",
      "execution_count": 26,
      "metadata": {
        "id": "EdUNnIZTeoY9"
      },
      "outputs": [
        {
          "data": {
            "text/plain": [
              "[1, 4, 6]"
            ]
          },
          "execution_count": 26,
          "metadata": {},
          "output_type": "execute_result"
        }
      ],
      "source": [
        "q6"
      ]
    },
    {
      "cell_type": "markdown",
      "metadata": {
        "id": "gTy9EwxTpVhG"
      },
      "source": [
        "Assign a list containing the numbers 0, 2 and 3 in that order to `p6`."
      ]
    },
    {
      "cell_type": "code",
      "execution_count": 27,
      "metadata": {
        "id": "3ycH3TbQpgU_"
      },
      "outputs": [],
      "source": [
        "p6 = [0,2,3]"
      ]
    },
    {
      "cell_type": "code",
      "execution_count": 28,
      "metadata": {
        "id": "YZDol4hhqr48"
      },
      "outputs": [
        {
          "data": {
            "text/plain": [
              "[0, 2, 3]"
            ]
          },
          "execution_count": 28,
          "metadata": {},
          "output_type": "execute_result"
        }
      ],
      "source": [
        "p6"
      ]
    },
    {
      "cell_type": "markdown",
      "metadata": {
        "id": "z4QVktiLqrLp"
      },
      "source": [
        "### Problem 7\n",
        "\n",
        "A signature feature of Python is list comprehensions.\n",
        "A list comprehension can be made taking in an old list, and applying a formula to every entry in the old list, and returning a list with the resulting values.\n",
        "This will be useful for summation expressions such as $\\sum_{i=0}^9 x_i^2$.\n",
        "\n",
        "The following example creates a list `q7a` with the first 5 prime numbers, and then creates another list `q7b` with the squares of the numbers in `q7a`.\n",
        "`q7b` is created with a list comprehension."
      ]
    },
    {
      "cell_type": "code",
      "execution_count": 29,
      "metadata": {
        "id": "RWkFEiqzrwqQ"
      },
      "outputs": [],
      "source": [
        "q7a = [2, 3, 5, 7, 11]"
      ]
    },
    {
      "cell_type": "code",
      "execution_count": 30,
      "metadata": {
        "colab": {
          "base_uri": "https://localhost:8080/"
        },
        "id": "3E3Tmh8Ir41c",
        "outputId": "6e51a245-d656-44f7-f80b-531f536ad325"
      },
      "outputs": [
        {
          "data": {
            "text/plain": [
              "[2, 3, 5, 7, 11]"
            ]
          },
          "execution_count": 30,
          "metadata": {},
          "output_type": "execute_result"
        }
      ],
      "source": [
        "q7a"
      ]
    },
    {
      "cell_type": "code",
      "execution_count": 31,
      "metadata": {
        "id": "h_4SYgNEr2dW"
      },
      "outputs": [],
      "source": [
        "q7b = [x**2 for x in q7a]"
      ]
    },
    {
      "cell_type": "code",
      "execution_count": 32,
      "metadata": {
        "colab": {
          "base_uri": "https://localhost:8080/"
        },
        "id": "YEKFjUKGr5iP",
        "outputId": "e1454cad-a4a6-4155-f47c-180c4c5ec384"
      },
      "outputs": [
        {
          "data": {
            "text/plain": [
              "[4, 9, 25, 49, 121]"
            ]
          },
          "execution_count": 32,
          "metadata": {},
          "output_type": "execute_result"
        }
      ],
      "source": [
        "q7b"
      ]
    },
    {
      "cell_type": "markdown",
      "metadata": {
        "id": "Wrlk7BphsTwb"
      },
      "source": [
        "Set `p7` to be a list with values one higher than the corresponding entries in `q7b` using a list comprehension."
      ]
    },
    {
      "cell_type": "code",
      "execution_count": 33,
      "metadata": {
        "id": "XkwKMmUfsQsC"
      },
      "outputs": [],
      "source": [
        "p7 = [x+1 for x in q7b]"
      ]
    },
    {
      "cell_type": "code",
      "execution_count": 34,
      "metadata": {
        "id": "SAWxHbvEsSg_"
      },
      "outputs": [
        {
          "data": {
            "text/plain": [
              "[5, 10, 26, 50, 122]"
            ]
          },
          "execution_count": 34,
          "metadata": {},
          "output_type": "execute_result"
        }
      ],
      "source": [
        "p7"
      ]
    },
    {
      "cell_type": "markdown",
      "metadata": {
        "id": "-cFs3FISQFLg"
      },
      "source": [
        "### Problem 8\n",
        "\n",
        "The Python built-in function `sum` takes in any sequence of values such as a list, and returns the sum of the values in the list.\n",
        "\n",
        "The following example shows how to calculate the sum of the values in the list `q8a`."
      ]
    },
    {
      "cell_type": "code",
      "execution_count": 35,
      "metadata": {
        "id": "-i6kQ9A9Rx33"
      },
      "outputs": [],
      "source": [
        "q8a = [1, 2, 3, 4, 5]"
      ]
    },
    {
      "cell_type": "code",
      "execution_count": 36,
      "metadata": {
        "id": "KvqrH2Q7R3Tu"
      },
      "outputs": [
        {
          "data": {
            "text/plain": [
              "15"
            ]
          },
          "execution_count": 36,
          "metadata": {},
          "output_type": "execute_result"
        }
      ],
      "source": [
        "sum(q8a)"
      ]
    },
    {
      "cell_type": "markdown",
      "metadata": {
        "id": "e_L_2bLvs6z3"
      },
      "source": [
        "Set `p8` to be the sum of the values in `q8b`."
      ]
    },
    {
      "cell_type": "code",
      "execution_count": 37,
      "metadata": {
        "id": "0R1IET-RR6UP"
      },
      "outputs": [],
      "source": [
        "q8b = [0.4, 6.25, 999, 0.245, 23.5, 31.67, 32.67]"
      ]
    },
    {
      "cell_type": "code",
      "execution_count": 38,
      "metadata": {
        "id": "jk7NiUsUSBXo"
      },
      "outputs": [],
      "source": [
        "p8 = sum(q8b)"
      ]
    },
    {
      "cell_type": "code",
      "execution_count": 39,
      "metadata": {
        "id": "ADgnNy63SrFn"
      },
      "outputs": [
        {
          "data": {
            "text/plain": [
              "1093.735"
            ]
          },
          "execution_count": 39,
          "metadata": {},
          "output_type": "execute_result"
        }
      ],
      "source": [
        "p8"
      ]
    },
    {
      "cell_type": "markdown",
      "metadata": {
        "id": "HzmjbkHUUznD"
      },
      "source": [
        "### Problem 9\n",
        "\n",
        "The Python built-in function `len` returns the length of objects like lists.\n",
        "\n",
        "The following example checks the length of list `q9a`."
      ]
    },
    {
      "cell_type": "code",
      "execution_count": 40,
      "metadata": {
        "id": "2IVAJ8PkSgU1"
      },
      "outputs": [],
      "source": [
        "q9a = [8.6, 1.5, 8.6, 0.3, 8.2, 2.5, 6.5, 0.0, 8.4, 7.8]"
      ]
    },
    {
      "cell_type": "code",
      "execution_count": 41,
      "metadata": {
        "id": "Avyn4QYPSjbL"
      },
      "outputs": [
        {
          "data": {
            "text/plain": [
              "10"
            ]
          },
          "execution_count": 41,
          "metadata": {},
          "output_type": "execute_result"
        }
      ],
      "source": [
        "len(q9a)"
      ]
    },
    {
      "cell_type": "markdown",
      "metadata": {
        "id": "fYwOZmWktV-t"
      },
      "source": [
        "Set `p9` to be the length of the list `q9b`."
      ]
    },
    {
      "cell_type": "code",
      "execution_count": 43,
      "metadata": {
        "id": "CzuZZB13SliK"
      },
      "outputs": [],
      "source": [
        "q9b = [7.0, 3.9, 7.8, 3.7, 5.8, 6.7, 4.8, 3.8]"
      ]
    },
    {
      "cell_type": "code",
      "execution_count": 44,
      "metadata": {
        "id": "sXmyelMaSoUP"
      },
      "outputs": [],
      "source": [
        "p9 = len(q9b)"
      ]
    },
    {
      "cell_type": "code",
      "execution_count": 45,
      "metadata": {
        "id": "xNWuo402Sryb"
      },
      "outputs": [
        {
          "data": {
            "text/plain": [
              "8"
            ]
          },
          "execution_count": 45,
          "metadata": {},
          "output_type": "execute_result"
        }
      ],
      "source": [
        "p9"
      ]
    },
    {
      "cell_type": "markdown",
      "metadata": {
        "id": "NalMYNMTU0Rf"
      },
      "source": [
        "### Problem 10\n",
        "\n",
        "Set `p10` to the sum of the values in `q10`."
      ]
    },
    {
      "cell_type": "code",
      "execution_count": 46,
      "metadata": {
        "id": "zhxXRg_cSQ2g"
      },
      "outputs": [],
      "source": [
        "q10 = [8.0, 0.9, 8.4, 3.5, 9.4, 9.4, 1.8, 2.9, 9.2, 5.1]"
      ]
    },
    {
      "cell_type": "code",
      "execution_count": 47,
      "metadata": {
        "id": "Yjf2fBXiSX2s"
      },
      "outputs": [],
      "source": [
        "p10 = sum(q10)"
      ]
    },
    {
      "cell_type": "code",
      "execution_count": 48,
      "metadata": {
        "id": "o9EslYsASuot"
      },
      "outputs": [
        {
          "data": {
            "text/plain": [
              "58.6"
            ]
          },
          "execution_count": 48,
          "metadata": {},
          "output_type": "execute_result"
        }
      ],
      "source": [
        "p10"
      ]
    },
    {
      "cell_type": "markdown",
      "metadata": {
        "id": "tm9Mcg6TU1Tt"
      },
      "source": [
        "### Problem 11\n",
        "\n",
        "Set `p11` to be the length of `q11`."
      ]
    },
    {
      "cell_type": "code",
      "execution_count": 49,
      "metadata": {
        "id": "OBhAYutISy4h"
      },
      "outputs": [],
      "source": [
        "q11 = [5.2, 9.6, 8.0, 2.4, 0.4, 1.8, 5.5]"
      ]
    },
    {
      "cell_type": "code",
      "execution_count": 50,
      "metadata": {
        "id": "4byIVhtMS2UV"
      },
      "outputs": [],
      "source": [
        "p11 = len(q11)"
      ]
    },
    {
      "cell_type": "code",
      "execution_count": 51,
      "metadata": {
        "id": "Wpp75_v4S3eT"
      },
      "outputs": [
        {
          "data": {
            "text/plain": [
              "7"
            ]
          },
          "execution_count": 51,
          "metadata": {},
          "output_type": "execute_result"
        }
      ],
      "source": [
        "p11"
      ]
    },
    {
      "cell_type": "markdown",
      "metadata": {
        "id": "4PgsWaWPwWUm"
      },
      "source": [
        "### Problem 12\n",
        "\n",
        "List comprehensions can be combined with the sum function to implement summation expressions."
      ]
    },
    {
      "cell_type": "code",
      "execution_count": 52,
      "metadata": {
        "id": "Y2gkP5mswgeS"
      },
      "outputs": [],
      "source": [
        "q12a = [3, 4, 5, 6, 7]"
      ]
    },
    {
      "cell_type": "code",
      "execution_count": 53,
      "metadata": {
        "id": "Pc9t7o80wmOA"
      },
      "outputs": [],
      "source": [
        "q12b = sum([x * x for x in q12a])"
      ]
    },
    {
      "cell_type": "code",
      "execution_count": 54,
      "metadata": {
        "id": "VcQ9HEzCwvvW"
      },
      "outputs": [
        {
          "data": {
            "text/plain": [
              "135"
            ]
          },
          "execution_count": 54,
          "metadata": {},
          "output_type": "execute_result"
        }
      ],
      "source": [
        "q12b"
      ]
    },
    {
      "cell_type": "markdown",
      "metadata": {
        "id": "bF8eD3guwxkg"
      },
      "source": [
        "Set `p12` to be the sum of $x^3$ for x from 2 to 5 (inclusive)."
      ]
    },
    {
      "cell_type": "code",
      "execution_count": 55,
      "metadata": {
        "id": "rmf7zFlFw7DJ"
      },
      "outputs": [],
      "source": [
        "q12c = [2, 3, 4, 5]"
      ]
    },
    {
      "cell_type": "code",
      "execution_count": 56,
      "metadata": {
        "id": "mqlgHJT8w84P"
      },
      "outputs": [],
      "source": [
        "p12 = sum([x**3 for x in q12c])"
      ]
    },
    {
      "cell_type": "code",
      "execution_count": 57,
      "metadata": {
        "id": "V8zJR8qfw95q"
      },
      "outputs": [
        {
          "data": {
            "text/plain": [
              "224"
            ]
          },
          "execution_count": 57,
          "metadata": {},
          "output_type": "execute_result"
        }
      ],
      "source": [
        "p12"
      ]
    },
    {
      "cell_type": "markdown",
      "metadata": {
        "id": "rBruOAzcUt33"
      },
      "source": [
        "### Problem 13\n",
        "\n",
        "We will be using the pandas module to load structured data in this module.\n",
        "\n",
        "The following example reads the contents of the file \"f13a.tsv\" and stores it in the variable `q13`."
      ]
    },
    {
      "cell_type": "code",
      "execution_count": 58,
      "metadata": {
        "id": "WlSYjSwkNtSw"
      },
      "outputs": [],
      "source": [
        "# load pandas module and make it accessible as \"pd\"\n",
        "import pandas as pd"
      ]
    },
    {
      "cell_type": "code",
      "execution_count": 59,
      "metadata": {
        "id": "hmUd3FPTN7I7"
      },
      "outputs": [],
      "source": [
        "# read the f13a.tsv as a tab-separated file.\n",
        "# the sep parameter tells pandas how to parse the file,\n",
        "# and will be used for most files in this course.\n",
        "q13 = pd.read_csv(\"f13a.tsv\", sep=\"\\t\")"
      ]
    },
    {
      "cell_type": "code",
      "execution_count": 60,
      "metadata": {
        "id": "6PRAfT3FORpJ"
      },
      "outputs": [
        {
          "data": {
            "text/html": [
              "<div>\n",
              "<style scoped>\n",
              "    .dataframe tbody tr th:only-of-type {\n",
              "        vertical-align: middle;\n",
              "    }\n",
              "\n",
              "    .dataframe tbody tr th {\n",
              "        vertical-align: top;\n",
              "    }\n",
              "\n",
              "    .dataframe thead th {\n",
              "        text-align: right;\n",
              "    }\n",
              "</style>\n",
              "<table border=\"1\" class=\"dataframe\">\n",
              "  <thead>\n",
              "    <tr style=\"text-align: right;\">\n",
              "      <th></th>\n",
              "      <th>foo</th>\n",
              "      <th>bar</th>\n",
              "    </tr>\n",
              "  </thead>\n",
              "  <tbody>\n",
              "    <tr>\n",
              "      <th>0</th>\n",
              "      <td>1</td>\n",
              "      <td>2</td>\n",
              "    </tr>\n",
              "    <tr>\n",
              "      <th>1</th>\n",
              "      <td>3</td>\n",
              "      <td>4</td>\n",
              "    </tr>\n",
              "    <tr>\n",
              "      <th>2</th>\n",
              "      <td>5</td>\n",
              "      <td>6</td>\n",
              "    </tr>\n",
              "  </tbody>\n",
              "</table>\n",
              "</div>"
            ],
            "text/plain": [
              "   foo  bar\n",
              "0    1    2\n",
              "1    3    4\n",
              "2    5    6"
            ]
          },
          "execution_count": 60,
          "metadata": {},
          "output_type": "execute_result"
        }
      ],
      "source": [
        "# print out a preview of the data in q11.\n",
        "# note the column names in the preview.\n",
        "q13"
      ]
    },
    {
      "cell_type": "markdown",
      "metadata": {
        "id": "B4XrcSMetwuo"
      },
      "source": [
        "Use the pandas module to load the file \"f13b.tsv\" and save it to the variable `p13`."
      ]
    },
    {
      "cell_type": "code",
      "execution_count": 61,
      "metadata": {
        "id": "7TC3K_jAOP6W"
      },
      "outputs": [],
      "source": [
        "# read f13b.tsv and save it as p13, following the example for q13.\n",
        "p13 = pd.read_csv(\"f13b.tsv\", sep=\"\\t\")"
      ]
    },
    {
      "cell_type": "code",
      "execution_count": 62,
      "metadata": {
        "id": "dAcGakAxOSsd"
      },
      "outputs": [
        {
          "data": {
            "text/html": [
              "<div>\n",
              "<style scoped>\n",
              "    .dataframe tbody tr th:only-of-type {\n",
              "        vertical-align: middle;\n",
              "    }\n",
              "\n",
              "    .dataframe tbody tr th {\n",
              "        vertical-align: top;\n",
              "    }\n",
              "\n",
              "    .dataframe thead th {\n",
              "        text-align: right;\n",
              "    }\n",
              "</style>\n",
              "<table border=\"1\" class=\"dataframe\">\n",
              "  <thead>\n",
              "    <tr style=\"text-align: right;\">\n",
              "      <th></th>\n",
              "      <th>foo</th>\n",
              "      <th>bar</th>\n",
              "      <th>baz</th>\n",
              "    </tr>\n",
              "  </thead>\n",
              "  <tbody>\n",
              "    <tr>\n",
              "      <th>0</th>\n",
              "      <td>1</td>\n",
              "      <td>2</td>\n",
              "      <td>3</td>\n",
              "    </tr>\n",
              "    <tr>\n",
              "      <th>1</th>\n",
              "      <td>3</td>\n",
              "      <td>4</td>\n",
              "      <td>6</td>\n",
              "    </tr>\n",
              "    <tr>\n",
              "      <th>2</th>\n",
              "      <td>5</td>\n",
              "      <td>6</td>\n",
              "      <td>1</td>\n",
              "    </tr>\n",
              "    <tr>\n",
              "      <th>3</th>\n",
              "      <td>9</td>\n",
              "      <td>13</td>\n",
              "      <td>2</td>\n",
              "    </tr>\n",
              "  </tbody>\n",
              "</table>\n",
              "</div>"
            ],
            "text/plain": [
              "   foo  bar  baz\n",
              "0    1    2    3\n",
              "1    3    4    6\n",
              "2    5    6    1\n",
              "3    9   13    2"
            ]
          },
          "execution_count": 62,
          "metadata": {},
          "output_type": "execute_result"
        }
      ],
      "source": [
        "p13"
      ]
    },
    {
      "cell_type": "markdown",
      "metadata": {
        "id": "5HFGbnHCUv_B"
      },
      "source": [
        "### Problem 14\n",
        "\n",
        "The code below loads the abalone dataset and saves it in the variable `q13`.\n",
        "You can look at the preview, or check `q13.columns` to see the column names.\n"
      ]
    },
    {
      "cell_type": "code",
      "execution_count": 63,
      "metadata": {
        "id": "0NNXAPW3PXu7"
      },
      "outputs": [],
      "source": [
        "q14 = pd.read_csv(\"https://raw.githubusercontent.com/bu-cds-omds/dx601-examples/main/data/abalone.tsv\", sep=\"\\t\")"
      ]
    },
    {
      "cell_type": "code",
      "execution_count": 64,
      "metadata": {
        "id": "ilb1XDU-PflB"
      },
      "outputs": [
        {
          "data": {
            "text/html": [
              "<div>\n",
              "<style scoped>\n",
              "    .dataframe tbody tr th:only-of-type {\n",
              "        vertical-align: middle;\n",
              "    }\n",
              "\n",
              "    .dataframe tbody tr th {\n",
              "        vertical-align: top;\n",
              "    }\n",
              "\n",
              "    .dataframe thead th {\n",
              "        text-align: right;\n",
              "    }\n",
              "</style>\n",
              "<table border=\"1\" class=\"dataframe\">\n",
              "  <thead>\n",
              "    <tr style=\"text-align: right;\">\n",
              "      <th></th>\n",
              "      <th>Sex</th>\n",
              "      <th>Length</th>\n",
              "      <th>Diameter</th>\n",
              "      <th>Height</th>\n",
              "      <th>Whole_weight</th>\n",
              "      <th>Shucked_weight</th>\n",
              "      <th>Viscera_weight</th>\n",
              "      <th>Shell_weight</th>\n",
              "      <th>Rings</th>\n",
              "    </tr>\n",
              "  </thead>\n",
              "  <tbody>\n",
              "    <tr>\n",
              "      <th>0</th>\n",
              "      <td>M</td>\n",
              "      <td>0.455</td>\n",
              "      <td>0.365</td>\n",
              "      <td>0.095</td>\n",
              "      <td>0.5140</td>\n",
              "      <td>0.2245</td>\n",
              "      <td>0.1010</td>\n",
              "      <td>0.1500</td>\n",
              "      <td>15</td>\n",
              "    </tr>\n",
              "    <tr>\n",
              "      <th>1</th>\n",
              "      <td>M</td>\n",
              "      <td>0.350</td>\n",
              "      <td>0.265</td>\n",
              "      <td>0.090</td>\n",
              "      <td>0.2255</td>\n",
              "      <td>0.0995</td>\n",
              "      <td>0.0485</td>\n",
              "      <td>0.0700</td>\n",
              "      <td>7</td>\n",
              "    </tr>\n",
              "    <tr>\n",
              "      <th>2</th>\n",
              "      <td>F</td>\n",
              "      <td>0.530</td>\n",
              "      <td>0.420</td>\n",
              "      <td>0.135</td>\n",
              "      <td>0.6770</td>\n",
              "      <td>0.2565</td>\n",
              "      <td>0.1415</td>\n",
              "      <td>0.2100</td>\n",
              "      <td>9</td>\n",
              "    </tr>\n",
              "    <tr>\n",
              "      <th>3</th>\n",
              "      <td>M</td>\n",
              "      <td>0.440</td>\n",
              "      <td>0.365</td>\n",
              "      <td>0.125</td>\n",
              "      <td>0.5160</td>\n",
              "      <td>0.2155</td>\n",
              "      <td>0.1140</td>\n",
              "      <td>0.1550</td>\n",
              "      <td>10</td>\n",
              "    </tr>\n",
              "    <tr>\n",
              "      <th>4</th>\n",
              "      <td>I</td>\n",
              "      <td>0.330</td>\n",
              "      <td>0.255</td>\n",
              "      <td>0.080</td>\n",
              "      <td>0.2050</td>\n",
              "      <td>0.0895</td>\n",
              "      <td>0.0395</td>\n",
              "      <td>0.0550</td>\n",
              "      <td>7</td>\n",
              "    </tr>\n",
              "    <tr>\n",
              "      <th>...</th>\n",
              "      <td>...</td>\n",
              "      <td>...</td>\n",
              "      <td>...</td>\n",
              "      <td>...</td>\n",
              "      <td>...</td>\n",
              "      <td>...</td>\n",
              "      <td>...</td>\n",
              "      <td>...</td>\n",
              "      <td>...</td>\n",
              "    </tr>\n",
              "    <tr>\n",
              "      <th>4172</th>\n",
              "      <td>F</td>\n",
              "      <td>0.565</td>\n",
              "      <td>0.450</td>\n",
              "      <td>0.165</td>\n",
              "      <td>0.8870</td>\n",
              "      <td>0.3700</td>\n",
              "      <td>0.2390</td>\n",
              "      <td>0.2490</td>\n",
              "      <td>11</td>\n",
              "    </tr>\n",
              "    <tr>\n",
              "      <th>4173</th>\n",
              "      <td>M</td>\n",
              "      <td>0.590</td>\n",
              "      <td>0.440</td>\n",
              "      <td>0.135</td>\n",
              "      <td>0.9660</td>\n",
              "      <td>0.4390</td>\n",
              "      <td>0.2145</td>\n",
              "      <td>0.2605</td>\n",
              "      <td>10</td>\n",
              "    </tr>\n",
              "    <tr>\n",
              "      <th>4174</th>\n",
              "      <td>M</td>\n",
              "      <td>0.600</td>\n",
              "      <td>0.475</td>\n",
              "      <td>0.205</td>\n",
              "      <td>1.1760</td>\n",
              "      <td>0.5255</td>\n",
              "      <td>0.2875</td>\n",
              "      <td>0.3080</td>\n",
              "      <td>9</td>\n",
              "    </tr>\n",
              "    <tr>\n",
              "      <th>4175</th>\n",
              "      <td>F</td>\n",
              "      <td>0.625</td>\n",
              "      <td>0.485</td>\n",
              "      <td>0.150</td>\n",
              "      <td>1.0945</td>\n",
              "      <td>0.5310</td>\n",
              "      <td>0.2610</td>\n",
              "      <td>0.2960</td>\n",
              "      <td>10</td>\n",
              "    </tr>\n",
              "    <tr>\n",
              "      <th>4176</th>\n",
              "      <td>M</td>\n",
              "      <td>0.710</td>\n",
              "      <td>0.555</td>\n",
              "      <td>0.195</td>\n",
              "      <td>1.9485</td>\n",
              "      <td>0.9455</td>\n",
              "      <td>0.3765</td>\n",
              "      <td>0.4950</td>\n",
              "      <td>12</td>\n",
              "    </tr>\n",
              "  </tbody>\n",
              "</table>\n",
              "<p>4177 rows × 9 columns</p>\n",
              "</div>"
            ],
            "text/plain": [
              "     Sex  Length  Diameter  Height  Whole_weight  Shucked_weight  \\\n",
              "0      M   0.455     0.365   0.095        0.5140          0.2245   \n",
              "1      M   0.350     0.265   0.090        0.2255          0.0995   \n",
              "2      F   0.530     0.420   0.135        0.6770          0.2565   \n",
              "3      M   0.440     0.365   0.125        0.5160          0.2155   \n",
              "4      I   0.330     0.255   0.080        0.2050          0.0895   \n",
              "...   ..     ...       ...     ...           ...             ...   \n",
              "4172   F   0.565     0.450   0.165        0.8870          0.3700   \n",
              "4173   M   0.590     0.440   0.135        0.9660          0.4390   \n",
              "4174   M   0.600     0.475   0.205        1.1760          0.5255   \n",
              "4175   F   0.625     0.485   0.150        1.0945          0.5310   \n",
              "4176   M   0.710     0.555   0.195        1.9485          0.9455   \n",
              "\n",
              "      Viscera_weight  Shell_weight  Rings  \n",
              "0             0.1010        0.1500     15  \n",
              "1             0.0485        0.0700      7  \n",
              "2             0.1415        0.2100      9  \n",
              "3             0.1140        0.1550     10  \n",
              "4             0.0395        0.0550      7  \n",
              "...              ...           ...    ...  \n",
              "4172          0.2390        0.2490     11  \n",
              "4173          0.2145        0.2605     10  \n",
              "4174          0.2875        0.3080      9  \n",
              "4175          0.2610        0.2960     10  \n",
              "4176          0.3765        0.4950     12  \n",
              "\n",
              "[4177 rows x 9 columns]"
            ]
          },
          "execution_count": 64,
          "metadata": {},
          "output_type": "execute_result"
        }
      ],
      "source": [
        "q14"
      ]
    },
    {
      "cell_type": "code",
      "execution_count": 65,
      "metadata": {
        "id": "AyS1VSZhPiA_"
      },
      "outputs": [
        {
          "data": {
            "text/plain": [
              "Index(['Sex', 'Length', 'Diameter', 'Height', 'Whole_weight', 'Shucked_weight',\n",
              "       'Viscera_weight', 'Shell_weight', 'Rings'],\n",
              "      dtype='object')"
            ]
          },
          "execution_count": 65,
          "metadata": {},
          "output_type": "execute_result"
        }
      ],
      "source": [
        "q14.columns"
      ]
    },
    {
      "cell_type": "markdown",
      "metadata": {
        "id": "ktlC4uzIuKhd"
      },
      "source": [
        "Set the variable `p14` to be the name of the first column of the abalone dataset."
      ]
    },
    {
      "cell_type": "code",
      "execution_count": 66,
      "metadata": {
        "id": "vC02WpGHPj29"
      },
      "outputs": [],
      "source": [
        "# column names are text data, so use quotes to save them in a variable.\n",
        "p14 = \"Sex\""
      ]
    },
    {
      "cell_type": "markdown",
      "metadata": {
        "id": "CvH5UWjcU4vK"
      },
      "source": [
        "### Problem 15\n",
        "\n",
        "Another Python library that we will use in this module is NumPy.\n",
        "NumPy is best known for its special arrays that make calculations with lots of numbers easy.\n",
        "\n",
        "The following example converts a small list `q15a` into a NumPy array `q15b`.\n",
        "\n"
      ]
    },
    {
      "cell_type": "code",
      "execution_count": 67,
      "metadata": {
        "id": "7S2Atlb8vhef"
      },
      "outputs": [],
      "source": [
        "import numpy as np"
      ]
    },
    {
      "cell_type": "code",
      "execution_count": 68,
      "metadata": {
        "id": "qIn2S-FkvXKU"
      },
      "outputs": [],
      "source": [
        "q15a = [1, 3, 8, 6]"
      ]
    },
    {
      "cell_type": "code",
      "execution_count": 69,
      "metadata": {
        "id": "qdJmwZCZvb-Y"
      },
      "outputs": [],
      "source": [
        "q15b = np.array(q15a)"
      ]
    },
    {
      "cell_type": "code",
      "execution_count": 70,
      "metadata": {
        "id": "1GNNJ3BDvkNf"
      },
      "outputs": [
        {
          "data": {
            "text/plain": [
              "array([1, 3, 8, 6])"
            ]
          },
          "execution_count": 70,
          "metadata": {},
          "output_type": "execute_result"
        }
      ],
      "source": [
        "q15b"
      ]
    },
    {
      "cell_type": "markdown",
      "metadata": {
        "id": "Iz13M9FvwMEP"
      },
      "source": [
        "Set `p15` to be a NumPy array with the same values as the list `q15c`."
      ]
    },
    {
      "cell_type": "code",
      "execution_count": 71,
      "metadata": {
        "id": "HSUilNtswGgy"
      },
      "outputs": [],
      "source": [
        "q15c = [2, 3, 5, 9]"
      ]
    },
    {
      "cell_type": "code",
      "execution_count": 72,
      "metadata": {
        "id": "HTQ2TqxRwJAJ"
      },
      "outputs": [],
      "source": [
        "p15 = np.array(q15c)"
      ]
    },
    {
      "cell_type": "code",
      "execution_count": 73,
      "metadata": {
        "id": "e55ZY-9MwQqC"
      },
      "outputs": [
        {
          "data": {
            "text/plain": [
              "array([2, 3, 5, 9])"
            ]
          },
          "execution_count": 73,
          "metadata": {},
          "output_type": "execute_result"
        }
      ],
      "source": [
        "p15"
      ]
    },
    {
      "cell_type": "markdown",
      "metadata": {
        "id": "ZM4Tnh27xrdS"
      },
      "source": [
        "### Problem 16\n",
        "\n",
        "Set `p16` to be the sum of the numbers `q16a` and `q16b`."
      ]
    },
    {
      "cell_type": "code",
      "execution_count": 74,
      "metadata": {
        "id": "wp2Sh3HDxyxV"
      },
      "outputs": [],
      "source": [
        "q16a = 1e10"
      ]
    },
    {
      "cell_type": "code",
      "execution_count": 75,
      "metadata": {
        "id": "CFmomZx8x2PX"
      },
      "outputs": [
        {
          "data": {
            "text/plain": [
              "10000000000.0"
            ]
          },
          "execution_count": 75,
          "metadata": {},
          "output_type": "execute_result"
        }
      ],
      "source": [
        "q16a"
      ]
    },
    {
      "cell_type": "code",
      "execution_count": 76,
      "metadata": {
        "id": "zGuEdNyFx3HX"
      },
      "outputs": [],
      "source": [
        "q16b = 22 / 7"
      ]
    },
    {
      "cell_type": "code",
      "execution_count": 77,
      "metadata": {
        "id": "oPN6gEBQx6MQ"
      },
      "outputs": [
        {
          "data": {
            "text/plain": [
              "3.142857142857143"
            ]
          },
          "execution_count": 77,
          "metadata": {},
          "output_type": "execute_result"
        }
      ],
      "source": [
        "q16b"
      ]
    },
    {
      "cell_type": "code",
      "execution_count": 80,
      "metadata": {
        "id": "wexPTQm2x7Pc"
      },
      "outputs": [],
      "source": [
        "p16 = q16a + q16b"
      ]
    },
    {
      "cell_type": "markdown",
      "metadata": {
        "id": "vO3N_wngU6gc"
      },
      "source": [
        "### Problem 17\n",
        "\n",
        "Set `p17` to the sum of numbers in `q17`."
      ]
    },
    {
      "cell_type": "code",
      "execution_count": 83,
      "metadata": {
        "id": "avYpMF1ixf-5"
      },
      "outputs": [],
      "source": [
        "q17 = [9.1, 4.3, 1.7, 2.8, 2.5, 1.5, 1.4, 3.6, 5.8, 2.3]"
      ]
    },
    {
      "cell_type": "code",
      "execution_count": 84,
      "metadata": {
        "id": "vtl3693Hxixj"
      },
      "outputs": [],
      "source": [
        "p17 = sum(q17)"
      ]
    },
    {
      "cell_type": "markdown",
      "metadata": {
        "id": "wyESUMKUU7Ge"
      },
      "source": [
        "### Problem 18\n",
        "\n",
        "Set `p18` to be a list of all the squares of values in `q18`."
      ]
    },
    {
      "cell_type": "code",
      "execution_count": 86,
      "metadata": {
        "id": "3Td9iwXAyCRN"
      },
      "outputs": [],
      "source": [
        "q18 = [7.1, 5.9, 8.0, 8.3, 8.1, 0.3, 6.1, 7.0, 7.0, 4.8]"
      ]
    },
    {
      "cell_type": "code",
      "execution_count": 88,
      "metadata": {
        "id": "Tx4PYPDkyEwD"
      },
      "outputs": [],
      "source": [
        "p18 = [x**2 for x in q18]"
      ]
    },
    {
      "cell_type": "markdown",
      "metadata": {
        "id": "rabH1UKvU82c"
      },
      "source": [
        "### Problem 19\n",
        "\n",
        "Set `p19` to be the sum of the cubes of values in `q19`."
      ]
    },
    {
      "cell_type": "code",
      "execution_count": 89,
      "metadata": {
        "id": "0AGWoBZDyn3j"
      },
      "outputs": [],
      "source": [
        "q19 = [4.5, 9.8, 5.7, 5.7, 2.4, 4.7, 2.0, 3.3, 3.5, 4.4]"
      ]
    },
    {
      "cell_type": "code",
      "execution_count": 90,
      "metadata": {
        "id": "dzrWIEdAyo0m"
      },
      "outputs": [],
      "source": [
        "p19 = sum([x**3 for x in q19])"
      ]
    },
    {
      "cell_type": "markdown",
      "metadata": {
        "id": "rQPvC5HYU9hJ"
      },
      "source": [
        "### Problem 20\n",
        "\n",
        "Set `p20` to be the contents of file \"f20.tsv\" after reading it with pandas."
      ]
    },
    {
      "cell_type": "code",
      "execution_count": 91,
      "metadata": {
        "id": "GlSF2QJty9qA"
      },
      "outputs": [],
      "source": [
        "p20 = pd.read_csv(\"f20.tsv\", sep=\"\\t\") "
      ]
    }
  ],
  "metadata": {
    "colab": {
      "toc_visible": false
    },
    "kernelspec": {
      "display_name": "Python 3",
      "name": "python3"
    },
    "language_info": {
      "codemirror_mode": {
        "name": "ipython",
        "version": 3
      },
      "file_extension": ".py",
      "mimetype": "text/x-python",
      "name": "python",
      "nbconvert_exporter": "python",
      "pygments_lexer": "ipython3",
      "version": "3.12.1"
    }
  },
  "nbformat": 4,
  "nbformat_minor": 0
}
